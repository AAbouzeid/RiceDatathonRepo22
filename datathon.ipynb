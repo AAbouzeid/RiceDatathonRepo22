{
 "cells": [
  {
   "cell_type": "markdown",
   "metadata": {},
   "source": [
    "# Ideas\n",
    "\n",
    "Can average the results from a DLRM and the node2vec-esque distance model\n",
    "\n",
    "take out some edges (label them as 1) and insert some edges (label them as 0)\n",
    "these are what we train on\n",
    "\n",
    "Node embedding - distance model\n",
    "1. randomly initialize embeddings for all nodes\n",
    "2. for each pair of nodes, if they are connected then push their embeddings closer by some amount, otherwise push them farther\n",
    "3. Do a PCA and visualize the embedding space? or just predict and see what our accuracy is\n"
   ]
  },
  {
   "cell_type": "code",
   "execution_count": 24,
   "metadata": {},
   "outputs": [],
   "source": [
    "import csv\n",
    "import numpy as np\n",
    "import pandas as pd\n",
    "from collections import defaultdict\n",
    "from stellargraph.data import BiasedRandomWalk\n",
    "from stellargraph import StellarGraph\n",
    "from gensim.models import Word2Vec\n",
    "import multiprocessing\n",
    "import matplotlib.pyplot as plt\n"
   ]
  },
  {
   "cell_type": "code",
   "execution_count": 8,
   "metadata": {},
   "outputs": [],
   "source": [
    "file = open('bill_challenge_datasets/Training/training_graph.csv')\n",
    "csvreader = csv.reader(file)\n",
    "edges = []\n",
    "for row in csvreader:\n",
    "    if row[0][0] != \"n\":\n",
    "        edges.append(row)"
   ]
  },
  {
   "cell_type": "code",
   "execution_count": 27,
   "metadata": {},
   "outputs": [],
   "source": [
    "training_edges = []\n",
    "test_true_edges = []\n",
    "test_false_edges = []\n",
    "graph = defaultdict(set)\n",
    "training_graph = defaultdict(set)\n",
    "for i, row in enumerate(edges):\n",
    "    if i % 10 == 0:\n",
    "        test_true_edges.append(row)\n",
    "    else:\n",
    "        training_edges.append(row)\n",
    "        training_graph[row[0]].add(row[1])\n",
    "        training_graph[row[1]].add(row[0])\n",
    "    graph[row[0]].add(row[1])\n",
    "    graph[row[1]].add(row[0])\n",
    "\n",
    "for i in range(0, len(edges) - 65000, 2):\n",
    "    if i % 2 == 0:\n",
    "        if edges[i][0] not in edges[i + 1] and edges[i][0] not in graph[edges[i + 1][0]]:\n",
    "            test_false_edges.append([edges[i][0], edges[i+1][0]])\n"
   ]
  },
  {
   "cell_type": "code",
   "execution_count": 10,
   "metadata": {},
   "outputs": [],
   "source": [
    "# naive approach\n",
    "\n",
    "# embeddings = {}\n",
    "# for node in graph:\n",
    "#     embeddings[node] = np.random.rand(2) * 10\n",
    "# embeddings[node]\n",
    "# alpha = 1\n",
    "# for row in edges:\n",
    "#     mid = embeddings[row[0]] - embeddings[row[1]]\n",
    "#     embeddings[row[0]] -= alpha * mid\n",
    "#     embeddings[row[1]] += alpha * mid"
   ]
  },
  {
   "cell_type": "code",
   "execution_count": 20,
   "metadata": {},
   "outputs": [
    {
     "name": "stdout",
     "output_type": "stream",
     "text": [
      "StellarGraph: Undirected multigraph\n",
      " Nodes: 20539, Edges: 118834\n",
      "\n",
      " Node types:\n",
      "  default: [20539]\n",
      "    Features: none\n",
      "    Edge types: default-default->default\n",
      "\n",
      " Edge types:\n",
      "    default-default->default: [118834]\n",
      "        Weights: all 1 (default)\n",
      "        Features: none\n",
      "Number of random walks: 205390\n"
     ]
    }
   ],
   "source": [
    "# node2vec embedding approach\n",
    "\n",
    "pdgraph = pd.DataFrame(\n",
    "    {\"source\": [x[0] for x in training_edges], \"target\": [x[1] for x in training_edges]}\n",
    ")\n",
    "sgraph = StellarGraph(edges=pdgraph)\n",
    "print(sgraph.info())\n",
    "\n",
    "rw = BiasedRandomWalk(sgraph)\n",
    "\n",
    "walks = rw.run(\n",
    "    nodes=list(sgraph.nodes()),  # root nodes\n",
    "    length=100,  # maximum length of a random walk\n",
    "    n=10,  # number of random walks per root node\n",
    "    p=1.0,  # Defines (unormalised) probability, 1/p, of returning to source node\n",
    "    q=1.0,  # Defines (unormalised) probability, 1/q, for moving away from source node\n",
    ")\n",
    "print(\"Number of random walks: {}\".format(len(walks)))"
   ]
  },
  {
   "cell_type": "code",
   "execution_count": 69,
   "metadata": {},
   "outputs": [
    {
     "data": {
      "text/plain": [
       "(20,)"
      ]
     },
     "execution_count": 69,
     "metadata": {},
     "output_type": "execute_result"
    }
   ],
   "source": [
    "str_walks = [[str(n) for n in walk] for walk in walks]\n",
    "model = Word2Vec(str_walks, vector_size=20, window=5, min_count=0, sg=1, workers=multiprocessing.cpu_count(), epochs=3)\n",
    "model.wv[\"14416\"].shape"
   ]
  },
  {
   "cell_type": "code",
   "execution_count": 67,
   "metadata": {},
   "outputs": [
    {
     "data": {
      "image/png": "[encoded data removed]",
      "text/plain": [
       "<Figure size 432x288 with 1 Axes>"
      ]
     },
     "metadata": {
      "needs_background": "light"
     },
     "output_type": "display_data"
    }
   ],
   "source": [
    "from sklearn.decomposition import PCA\n",
    "X = [model.wv[x] for x in training_graph.keys()]\n",
    "pca = PCA(n_components=2)\n",
    "pca.fit(X)\n",
    "newX = pca.transform(X)\n",
    "plt.scatter([x[0] for x in newX], [x[1] for x in newX])\n",
    "plt.title(\"True Clustering\")\n",
    "plt.show()"
   ]
  },
  {
   "cell_type": "code",
   "execution_count": 72,
   "metadata": {},
   "outputs": [
    {
     "name": "stdout",
     "output_type": "stream",
     "text": [
      "ThresholdDist: 1 Accuracy: 0.5230586249232658\n",
      "ThresholdDist: 1.25 Accuracy: 0.5466543891958257\n",
      "ThresholdDist: 1.5 Accuracy: 0.5713627992633518\n",
      "ThresholdDist: 1.75 Accuracy: 0.5926181706568447\n",
      "ThresholdDist: 2 Accuracy: 0.6064686924493554\n",
      "ThresholdDist: 2.25 Accuracy: 0.6108041743400859\n",
      "ThresholdDist: 2.5 Accuracy: 0.600560159607121\n",
      "ThresholdDist: 2.75 Accuracy: 0.5822206875383671\n"
     ]
    }
   ],
   "source": [
    "for threshold_dist in [1, 1.25, 1.5, 1.75, 2, 2.25, 2.5, 2.75]:\n",
    "    amount_correct = 0\n",
    "    amount_incorrect = 0\n",
    "    for row in test_true_edges:\n",
    "        try:\n",
    "            # if distance less than threshold, we predict an edge\n",
    "            if np.linalg.norm(model.wv[row[0]] - model.wv[row[1]]) < threshold_dist:\n",
    "                amount_correct += 1\n",
    "            else:\n",
    "                amount_incorrect += 1\n",
    "        except:\n",
    "            continue\n",
    "        \n",
    "    for row in test_false_edges:\n",
    "        try:\n",
    "            # if distance less than threshold, we predict an edge\n",
    "            if np.linalg.norm(model.wv[row[0]] - model.wv[row[1]]) < threshold_dist:\n",
    "                amount_incorrect += 1\n",
    "            else:\n",
    "                amount_correct += 1\n",
    "        except:\n",
    "            continue\n",
    "\n",
    "    print(f\"ThresholdDist: {threshold_dist} Accuracy: {amount_correct / (amount_correct + amount_incorrect)}\")"
   ]
  },
  {
   "cell_type": "code",
   "execution_count": 69,
   "metadata": {},
   "outputs": [
    {
     "data": {
      "text/plain": [
       "13204"
      ]
     },
     "execution_count": 69,
     "metadata": {},
     "output_type": "execute_result"
    }
   ],
   "source": [
    "len(test_true_edges)"
   ]
  },
  {
   "cell_type": "code",
   "execution_count": null,
   "metadata": {},
   "outputs": [],
   "source": []
  }
 ],
 "metadata": {
  "interpreter": {
   "hash": "f406cabcd9f3cf74697c745bb89fc5c5cd04ca6f3658b9dcb136695e2a135b1c"
  },
  "kernelspec": {
   "display_name": "Python 3.9.7 64-bit ('myenv': conda)",
   "language": "python",
   "name": "python3"
  },
  "language_info": {
   "codemirror_mode": {
    "name": "ipython",
    "version": 3
   },
   "file_extension": ".py",
   "mimetype": "text/x-python",
   "name": "python",
   "nbconvert_exporter": "python",
   "pygments_lexer": "ipython3",
   "version": "3.9.10"
  },
  "orig_nbformat": 4
 },
 "nbformat": 4,
 "nbformat_minor": 2
}
