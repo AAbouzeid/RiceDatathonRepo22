{
 "cells": [
  {
   "cell_type": "markdown",
   "metadata": {},
   "source": [
    "# Ideas\n",
    "\n",
    "Can average the results from a DLRM and the node2vec-esque distance model\n",
    "\n",
    "take out some edges (label them as 1) and insert some edges (label them as 0)\n",
    "these are what we train on\n",
    "\n",
    "Node embedding - distance model\n",
    "1. randomly initialize embeddings for all nodes\n",
    "2. for each pair of nodes, if they are connected then push their embeddings closer by some amount, otherwise push them farther\n",
    "3. Do a PCA and visualize the embedding space? or just predict and see what our accuracy is\n"
   ]
  },
  {
   "cell_type": "code",
   "execution_count": 1,
   "metadata": {},
   "outputs": [
    {
     "name": "stderr",
     "output_type": "stream",
     "text": [
      "2022-01-29 11:17:10.729317: I tensorflow/stream_executor/platform/default/dso_loader.cc:49] Successfully opened dynamic library libcudart.so.10.1\n",
      "2022-01-29 11:17:11.771396: I tensorflow/compiler/jit/xla_cpu_device.cc:41] Not creating XLA devices, tf_xla_enable_xla_devices not set\n",
      "2022-01-29 11:17:11.772300: I tensorflow/stream_executor/platform/default/dso_loader.cc:49] Successfully opened dynamic library libcuda.so.1\n",
      "2022-01-29 11:17:11.857134: I tensorflow/core/common_runtime/gpu/gpu_device.cc:1720] Found device 0 with properties: \n",
      "pciBusID: 0000:1a:00.0 name: Tesla V100-SXM2-32GB computeCapability: 7.0\n",
      "coreClock: 1.53GHz coreCount: 80 deviceMemorySize: 31.75GiB deviceMemoryBandwidth: 836.37GiB/s\n",
      "2022-01-29 11:17:11.858776: I tensorflow/core/common_runtime/gpu/gpu_device.cc:1720] Found device 1 with properties: \n",
      "pciBusID: 0000:1b:00.0 name: Tesla V100-SXM2-32GB computeCapability: 7.0\n",
      "coreClock: 1.53GHz coreCount: 80 deviceMemorySize: 31.75GiB deviceMemoryBandwidth: 836.37GiB/s\n",
      "2022-01-29 11:17:11.860441: I tensorflow/core/common_runtime/gpu/gpu_device.cc:1720] Found device 2 with properties: \n",
      "pciBusID: 0000:3d:00.0 name: Tesla V100-SXM2-32GB computeCapability: 7.0\n",
      "coreClock: 1.53GHz coreCount: 80 deviceMemorySize: 31.75GiB deviceMemoryBandwidth: 836.37GiB/s\n",
      "2022-01-29 11:17:11.861949: I tensorflow/core/common_runtime/gpu/gpu_device.cc:1720] Found device 3 with properties: \n",
      "pciBusID: 0000:3e:00.0 name: Tesla V100-SXM2-32GB computeCapability: 7.0\n",
      "coreClock: 1.53GHz coreCount: 80 deviceMemorySize: 31.75GiB deviceMemoryBandwidth: 836.37GiB/s\n",
      "2022-01-29 11:17:11.863586: I tensorflow/core/common_runtime/gpu/gpu_device.cc:1720] Found device 4 with properties: \n",
      "pciBusID: 0000:88:00.0 name: Tesla V100-SXM2-32GB computeCapability: 7.0\n",
      "coreClock: 1.53GHz coreCount: 80 deviceMemorySize: 31.75GiB deviceMemoryBandwidth: 836.37GiB/s\n",
      "2022-01-29 11:17:11.865301: I tensorflow/core/common_runtime/gpu/gpu_device.cc:1720] Found device 5 with properties: \n",
      "pciBusID: 0000:89:00.0 name: Tesla V100-SXM2-32GB computeCapability: 7.0\n",
      "coreClock: 1.53GHz coreCount: 80 deviceMemorySize: 31.75GiB deviceMemoryBandwidth: 836.37GiB/s\n",
      "2022-01-29 11:17:11.866809: I tensorflow/core/common_runtime/gpu/gpu_device.cc:1720] Found device 6 with properties: \n",
      "pciBusID: 0000:b2:00.0 name: Tesla V100-SXM2-32GB computeCapability: 7.0\n",
      "coreClock: 1.53GHz coreCount: 80 deviceMemorySize: 31.75GiB deviceMemoryBandwidth: 836.37GiB/s\n",
      "2022-01-29 11:17:11.868268: I tensorflow/core/common_runtime/gpu/gpu_device.cc:1720] Found device 7 with properties: \n",
      "pciBusID: 0000:b3:00.0 name: Tesla V100-SXM2-32GB computeCapability: 7.0\n",
      "coreClock: 1.53GHz coreCount: 80 deviceMemorySize: 31.75GiB deviceMemoryBandwidth: 836.37GiB/s\n",
      "2022-01-29 11:17:11.868292: I tensorflow/stream_executor/platform/default/dso_loader.cc:49] Successfully opened dynamic library libcudart.so.10.1\n",
      "2022-01-29 11:17:11.870017: I tensorflow/stream_executor/platform/default/dso_loader.cc:49] Successfully opened dynamic library libcublas.so.10\n",
      "2022-01-29 11:17:11.870062: I tensorflow/stream_executor/platform/default/dso_loader.cc:49] Successfully opened dynamic library libcublasLt.so.10\n",
      "2022-01-29 11:17:11.871853: I tensorflow/stream_executor/platform/default/dso_loader.cc:49] Successfully opened dynamic library libcufft.so.10\n",
      "2022-01-29 11:17:11.872104: I tensorflow/stream_executor/platform/default/dso_loader.cc:49] Successfully opened dynamic library libcurand.so.10\n",
      "2022-01-29 11:17:11.873858: I tensorflow/stream_executor/platform/default/dso_loader.cc:49] Successfully opened dynamic library libcusolver.so.10\n",
      "2022-01-29 11:17:11.874768: I tensorflow/stream_executor/platform/default/dso_loader.cc:49] Successfully opened dynamic library libcusparse.so.10\n",
      "2022-01-29 11:17:11.878489: I tensorflow/stream_executor/platform/default/dso_loader.cc:49] Successfully opened dynamic library libcudnn.so.7\n",
      "2022-01-29 11:17:11.902275: I tensorflow/core/common_runtime/gpu/gpu_device.cc:1862] Adding visible gpu devices: 0, 1, 2, 3, 4, 5, 6, 7\n",
      "2022-01-29 11:17:11.902854: I tensorflow/core/platform/cpu_feature_guard.cc:142] This TensorFlow binary is optimized with oneAPI Deep Neural Network Library (oneDNN) to use the following CPU instructions in performance-critical operations:  SSE4.1 SSE4.2 AVX AVX2 AVX512F FMA\n",
      "To enable them in other operations, rebuild TensorFlow with the appropriate compiler flags.\n",
      "2022-01-29 11:17:13.395149: I tensorflow/core/common_runtime/gpu/gpu_device.cc:1720] Found device 0 with properties: \n",
      "pciBusID: 0000:1a:00.0 name: Tesla V100-SXM2-32GB computeCapability: 7.0\n",
      "coreClock: 1.53GHz coreCount: 80 deviceMemorySize: 31.75GiB deviceMemoryBandwidth: 836.37GiB/s\n",
      "2022-01-29 11:17:13.396812: I tensorflow/core/common_runtime/gpu/gpu_device.cc:1720] Found device 1 with properties: \n",
      "pciBusID: 0000:1b:00.0 name: Tesla V100-SXM2-32GB computeCapability: 7.0\n",
      "coreClock: 1.53GHz coreCount: 80 deviceMemorySize: 31.75GiB deviceMemoryBandwidth: 836.37GiB/s\n",
      "2022-01-29 11:17:13.398461: I tensorflow/core/common_runtime/gpu/gpu_device.cc:1720] Found device 2 with properties: \n",
      "pciBusID: 0000:3d:00.0 name: Tesla V100-SXM2-32GB computeCapability: 7.0\n",
      "coreClock: 1.53GHz coreCount: 80 deviceMemorySize: 31.75GiB deviceMemoryBandwidth: 836.37GiB/s\n",
      "2022-01-29 11:17:13.400093: I tensorflow/core/common_runtime/gpu/gpu_device.cc:1720] Found device 3 with properties: \n",
      "pciBusID: 0000:3e:00.0 name: Tesla V100-SXM2-32GB computeCapability: 7.0\n",
      "coreClock: 1.53GHz coreCount: 80 deviceMemorySize: 31.75GiB deviceMemoryBandwidth: 836.37GiB/s\n",
      "2022-01-29 11:17:13.401726: I tensorflow/core/common_runtime/gpu/gpu_device.cc:1720] Found device 4 with properties: \n",
      "pciBusID: 0000:88:00.0 name: Tesla V100-SXM2-32GB computeCapability: 7.0\n",
      "coreClock: 1.53GHz coreCount: 80 deviceMemorySize: 31.75GiB deviceMemoryBandwidth: 836.37GiB/s\n",
      "2022-01-29 11:17:13.403452: I tensorflow/core/common_runtime/gpu/gpu_device.cc:1720] Found device 5 with properties: \n",
      "pciBusID: 0000:89:00.0 name: Tesla V100-SXM2-32GB computeCapability: 7.0\n",
      "coreClock: 1.53GHz coreCount: 80 deviceMemorySize: 31.75GiB deviceMemoryBandwidth: 836.37GiB/s\n",
      "2022-01-29 11:17:13.405121: I tensorflow/core/common_runtime/gpu/gpu_device.cc:1720] Found device 6 with properties: \n",
      "pciBusID: 0000:b2:00.0 name: Tesla V100-SXM2-32GB computeCapability: 7.0\n",
      "coreClock: 1.53GHz coreCount: 80 deviceMemorySize: 31.75GiB deviceMemoryBandwidth: 836.37GiB/s\n",
      "2022-01-29 11:17:13.406666: I tensorflow/core/common_runtime/gpu/gpu_device.cc:1720] Found device 7 with properties: \n",
      "pciBusID: 0000:b3:00.0 name: Tesla V100-SXM2-32GB computeCapability: 7.0\n",
      "coreClock: 1.53GHz coreCount: 80 deviceMemorySize: 31.75GiB deviceMemoryBandwidth: 836.37GiB/s\n",
      "2022-01-29 11:17:13.406726: I tensorflow/stream_executor/platform/default/dso_loader.cc:49] Successfully opened dynamic library libcudart.so.10.1\n",
      "2022-01-29 11:17:13.406750: I tensorflow/stream_executor/platform/default/dso_loader.cc:49] Successfully opened dynamic library libcublas.so.10\n",
      "2022-01-29 11:17:13.406761: I tensorflow/stream_executor/platform/default/dso_loader.cc:49] Successfully opened dynamic library libcublasLt.so.10\n",
      "2022-01-29 11:17:13.406770: I tensorflow/stream_executor/platform/default/dso_loader.cc:49] Successfully opened dynamic library libcufft.so.10\n",
      "2022-01-29 11:17:13.406779: I tensorflow/stream_executor/platform/default/dso_loader.cc:49] Successfully opened dynamic library libcurand.so.10\n",
      "2022-01-29 11:17:13.406789: I tensorflow/stream_executor/platform/default/dso_loader.cc:49] Successfully opened dynamic library libcusolver.so.10\n",
      "2022-01-29 11:17:13.406798: I tensorflow/stream_executor/platform/default/dso_loader.cc:49] Successfully opened dynamic library libcusparse.so.10\n",
      "2022-01-29 11:17:13.406808: I tensorflow/stream_executor/platform/default/dso_loader.cc:49] Successfully opened dynamic library libcudnn.so.7\n",
      "2022-01-29 11:17:13.430409: I tensorflow/core/common_runtime/gpu/gpu_device.cc:1862] Adding visible gpu devices: 0, 1, 2, 3, 4, 5, 6, 7\n",
      "2022-01-29 11:17:13.430460: I tensorflow/stream_executor/platform/default/dso_loader.cc:49] Successfully opened dynamic library libcudart.so.10.1\n",
      "2022-01-29 11:17:19.634795: I tensorflow/core/common_runtime/gpu/gpu_device.cc:1261] Device interconnect StreamExecutor with strength 1 edge matrix:\n",
      "2022-01-29 11:17:19.634842: I tensorflow/core/common_runtime/gpu/gpu_device.cc:1267]      0 1 2 3 4 5 6 7 \n",
      "2022-01-29 11:17:19.634849: I tensorflow/core/common_runtime/gpu/gpu_device.cc:1280] 0:   N Y Y Y Y Y Y Y \n",
      "2022-01-29 11:17:19.634852: I tensorflow/core/common_runtime/gpu/gpu_device.cc:1280] 1:   Y N Y Y Y Y Y Y \n",
      "2022-01-29 11:17:19.634856: I tensorflow/core/common_runtime/gpu/gpu_device.cc:1280] 2:   Y Y N Y Y Y Y Y \n",
      "2022-01-29 11:17:19.634859: I tensorflow/core/common_runtime/gpu/gpu_device.cc:1280] 3:   Y Y Y N Y Y Y Y \n",
      "2022-01-29 11:17:19.634862: I tensorflow/core/common_runtime/gpu/gpu_device.cc:1280] 4:   Y Y Y Y N Y Y Y \n",
      "2022-01-29 11:17:19.634865: I tensorflow/core/common_runtime/gpu/gpu_device.cc:1280] 5:   Y Y Y Y Y N Y Y \n",
      "2022-01-29 11:17:19.634868: I tensorflow/core/common_runtime/gpu/gpu_device.cc:1280] 6:   Y Y Y Y Y Y N Y \n",
      "2022-01-29 11:17:19.634871: I tensorflow/core/common_runtime/gpu/gpu_device.cc:1280] 7:   Y Y Y Y Y Y Y N \n",
      "2022-01-29 11:17:19.649887: I tensorflow/core/common_runtime/gpu/gpu_device.cc:1406] Created TensorFlow device (/job:localhost/replica:0/task:0/device:GPU:0 with 1050 MB memory) -> physical GPU (device: 0, name: Tesla V100-SXM2-32GB, pci bus id: 0000:1a:00.0, compute capability: 7.0)\n",
      "2022-01-29 11:17:19.654336: I tensorflow/core/common_runtime/gpu/gpu_device.cc:1406] Created TensorFlow device (/job:localhost/replica:0/task:0/device:GPU:1 with 25630 MB memory) -> physical GPU (device: 1, name: Tesla V100-SXM2-32GB, pci bus id: 0000:1b:00.0, compute capability: 7.0)\n",
      "2022-01-29 11:17:19.658281: I tensorflow/core/common_runtime/gpu/gpu_device.cc:1406] Created TensorFlow device (/job:localhost/replica:0/task:0/device:GPU:2 with 27451 MB memory) -> physical GPU (device: 2, name: Tesla V100-SXM2-32GB, pci bus id: 0000:3d:00.0, compute capability: 7.0)\n",
      "2022-01-29 11:17:19.662189: I tensorflow/core/common_runtime/gpu/gpu_device.cc:1406] Created TensorFlow device (/job:localhost/replica:0/task:0/device:GPU:3 with 27470 MB memory) -> physical GPU (device: 3, name: Tesla V100-SXM2-32GB, pci bus id: 0000:3e:00.0, compute capability: 7.0)\n",
      "2022-01-29 11:17:19.667860: I tensorflow/core/common_runtime/gpu/gpu_device.cc:1406] Created TensorFlow device (/job:localhost/replica:0/task:0/device:GPU:4 with 27470 MB memory) -> physical GPU (device: 4, name: Tesla V100-SXM2-32GB, pci bus id: 0000:88:00.0, compute capability: 7.0)\n",
      "2022-01-29 11:17:19.673893: I tensorflow/core/common_runtime/gpu/gpu_device.cc:1406] Created TensorFlow device (/job:localhost/replica:0/task:0/device:GPU:5 with 29494 MB memory) -> physical GPU (device: 5, name: Tesla V100-SXM2-32GB, pci bus id: 0000:89:00.0, compute capability: 7.0)\n",
      "2022-01-29 11:17:19.677927: I tensorflow/core/common_runtime/gpu/gpu_device.cc:1406] Created TensorFlow device (/job:localhost/replica:0/task:0/device:GPU:6 with 27432 MB memory) -> physical GPU (device: 6, name: Tesla V100-SXM2-32GB, pci bus id: 0000:b2:00.0, compute capability: 7.0)\n",
      "2022-01-29 11:17:19.681676: I tensorflow/core/common_runtime/gpu/gpu_device.cc:1406] Created TensorFlow device (/job:localhost/replica:0/task:0/device:GPU:7 with 25045 MB memory) -> physical GPU (device: 7, name: Tesla V100-SXM2-32GB, pci bus id: 0000:b3:00.0, compute capability: 7.0)\n",
      "2022-01-29 11:17:19.682373: I tensorflow/compiler/jit/xla_gpu_device.cc:99] Not creating XLA devices, tf_xla_enable_xla_devices not set\n"
     ]
    }
   ],
   "source": [
    "import csv\n",
    "import numpy as np\n",
    "import pandas as pd\n",
    "from collections import defaultdict\n",
    "from stellargraph.data import BiasedRandomWalk\n",
    "from stellargraph import StellarGraph\n",
    "from gensim.models import Word2Vec\n",
    "import multiprocessing\n",
    "import matplotlib.pyplot as plt\n"
   ]
  },
  {
   "cell_type": "code",
   "execution_count": 2,
   "metadata": {},
   "outputs": [],
   "source": [
    "file = open('bill_challenge_datasets/Training/training_graph.csv')\n",
    "csvreader = csv.reader(file)\n",
    "edges = []\n",
    "for row in csvreader:\n",
    "    if row[0][0] != \"n\":\n",
    "        edges.append(row)"
   ]
  },
  {
   "cell_type": "code",
   "execution_count": 3,
   "metadata": {},
   "outputs": [],
   "source": [
    "training_edges = []\n",
    "test_true_edges = []\n",
    "test_false_edges = []\n",
    "graph = defaultdict(set)\n",
    "training_graph = defaultdict(set)\n",
    "for i, row in enumerate(edges):\n",
    "    if i % 10 == 0:\n",
    "        test_true_edges.append(row)\n",
    "    else:\n",
    "        training_edges.append(row)\n",
    "        training_graph[row[0]].add(row[1])\n",
    "        training_graph[row[1]].add(row[0])\n",
    "    graph[row[0]].add(row[1])\n",
    "    graph[row[1]].add(row[0])\n",
    "\n",
    "for i in range(0, len(edges) - 65000, 2):\n",
    "    if i % 2 == 0:\n",
    "        if edges[i][0] not in edges[i + 1] and edges[i][0] not in graph[edges[i + 1][0]]:\n",
    "            test_false_edges.append([edges[i][0], edges[i+1][0]])\n"
   ]
  },
  {
   "cell_type": "code",
   "execution_count": 5,
   "metadata": {},
   "outputs": [],
   "source": [
    "def jaccard(node1, node2):\n",
    "    inter = len(training_graph[node1].intersection(training_graph[node2]))\n",
    "    un = len(training_graph[node1].union(training_graph[node2]))\n",
    "    return inter / un\n",
    "\n",
    "for threshold_sim in [1, 1.25, 1.5, 1.75, 2, 2.25, 2.5, 2.75]:\n",
    "    amount_correct = 0\n",
    "    amount_incorrect = 0\n",
    "    for row in test_true_edges:\n",
    "        try:\n",
    "            # if distance less than threshold, we predict an edge\n",
    "            if jaccard(row[0], row[1]) < threshold_sim:\n",
    "                amount_correct += 1\n",
    "            else:\n",
    "                amount_incorrect += 1\n",
    "        except:\n",
    "            continue\n",
    "        \n",
    "    for row in test_false_edges:\n",
    "        try:\n",
    "            # if distance less than threshold, we predict an edge\n",
    "            if jaccard(row[0], row[1]) < threshold_sim:\n",
    "                amount_incorrect += 1\n",
    "            else:\n",
    "                amount_correct += 1\n",
    "        except:\n",
    "            continue"
   ]
  },
  {
   "cell_type": "code",
   "execution_count": 10,
   "metadata": {},
   "outputs": [],
   "source": [
    "# naive approach\n",
    "\n",
    "# embeddings = {}\n",
    "# for node in graph:\n",
    "#     embeddings[node] = np.random.rand(2) * 10\n",
    "# embeddings[node]\n",
    "# alpha = 1\n",
    "# for row in edges:\n",
    "#     mid = embeddings[row[0]] - embeddings[row[1]]\n",
    "#     embeddings[row[0]] -= alpha * mid\n",
    "#     embeddings[row[1]] += alpha * mid"
   ]
  },
  {
   "cell_type": "code",
   "execution_count": 11,
   "metadata": {},
   "outputs": [
    {
     "name": "stdout",
     "output_type": "stream",
     "text": [
      "StellarGraph: Undirected multigraph\n",
      " Nodes: 20539, Edges: 118834\n",
      "\n",
      " Node types:\n",
      "  default: [20539]\n",
      "    Features: none\n",
      "    Edge types: default-default->default\n",
      "\n",
      " Edge types:\n",
      "    default-default->default: [118834]\n",
      "        Weights: all 1 (default)\n",
      "        Features: none\n"
     ]
    }
   ],
   "source": [
    "# node2vec embedding approach\n",
    "\n",
    "pdgraph = pd.DataFrame(\n",
    "    {\"source\": [x[0] for x in training_edges], \"target\": [x[1] for x in training_edges]}\n",
    ")\n",
    "sgraph = StellarGraph(edges=pdgraph)\n",
    "print(sgraph.info())\n",
    "\n",
    "rw = BiasedRandomWalk(sgraph)\n",
    "\n",
    "walks = rw.run(\n",
    "    nodes=list(sgraph.nodes()),  # root nodes\n",
    "    length=100,  # maximum length of a random walk\n",
    "    n=10,  # number of random walks per root node\n",
    "    p=1.0,  # Defines (unormalised) probability, 1/p, of returning to source node\n",
    "    q=1.0,  # Defines (unormalised) probability, 1/q, for moving away from source node\n",
    ")\n",
    "print(\"Number of random walks: {}\".format(len(walks)))"
   ]
  },
  {
   "cell_type": "code",
   "execution_count": 69,
   "metadata": {},
   "outputs": [
    {
     "data": {
      "text/plain": [
       "(20,)"
      ]
     },
     "execution_count": 69,
     "metadata": {},
     "output_type": "execute_result"
    }
   ],
   "source": [
    "str_walks = [[str(n) for n in walk] for walk in walks]\n",
    "model = Word2Vec(str_walks, size=20, window=5, min_count=0, sg=1, workers=multiprocessing.cpu_count(), epochs=3)\n",
    "model.wv[\"14416\"].shape"
   ]
  },
  {
   "cell_type": "code",
   "execution_count": 67,
   "metadata": {},
   "outputs": [
    {
     "data": {
      "image/png": "[encoded data removed]",
      "text/plain": [
       "<Figure size 432x288 with 1 Axes>"
      ]
     },
     "metadata": {
      "needs_background": "light"
     },
     "output_type": "display_data"
    }
   ],
   "source": [
    "from sklearn.decomposition import PCA\n",
    "X = [model.wv[x] for x in training_graph.keys()]\n",
    "pca = PCA(n_components=2)\n",
    "pca.fit(X)\n",
    "newX = pca.transform(X)\n",
    "plt.scatter([x[0] for x in newX], [x[1] for x in newX])\n",
    "plt.title(\"True Clustering\")\n",
    "plt.show()"
   ]
  },
  {
   "cell_type": "code",
   "execution_count": 72,
   "metadata": {},
   "outputs": [
    {
     "name": "stdout",
     "output_type": "stream",
     "text": [
      "ThresholdDist: 1 Accuracy: 0.5230586249232658\n",
      "ThresholdDist: 1.25 Accuracy: 0.5466543891958257\n",
      "ThresholdDist: 1.5 Accuracy: 0.5713627992633518\n",
      "ThresholdDist: 1.75 Accuracy: 0.5926181706568447\n",
      "ThresholdDist: 2 Accuracy: 0.6064686924493554\n",
      "ThresholdDist: 2.25 Accuracy: 0.6108041743400859\n",
      "ThresholdDist: 2.5 Accuracy: 0.600560159607121\n",
      "ThresholdDist: 2.75 Accuracy: 0.5822206875383671\n"
     ]
    }
   ],
   "source": [
    "for threshold_dist in [1, 1.25, 1.5, 1.75, 2, 2.25, 2.5, 2.75]:\n",
    "    amount_correct = 0\n",
    "    amount_incorrect = 0\n",
    "    for row in test_true_edges:\n",
    "        try:\n",
    "            # if distance less than threshold, we predict an edge\n",
    "            if np.linalg.norm(model.wv[row[0]] - model.wv[row[1]]) < threshold_dist:\n",
    "                amount_correct += 1\n",
    "            else:\n",
    "                amount_incorrect += 1\n",
    "        except:\n",
    "            continue\n",
    "        \n",
    "    for row in test_false_edges:\n",
    "        try:\n",
    "            # if distance less than threshold, we predict an edge\n",
    "            if np.linalg.norm(model.wv[row[0]] - model.wv[row[1]]) < threshold_dist:\n",
    "                amount_incorrect += 1\n",
    "            else:\n",
    "                amount_correct += 1\n",
    "        except:\n",
    "            continue\n",
    "\n",
    "    print(f\"ThresholdDist: {threshold_dist} Accuracy: {amount_correct / (amount_correct + amount_incorrect)}\")"
   ]
  },
  {
   "cell_type": "code",
   "execution_count": 69,
   "metadata": {},
   "outputs": [
    {
     "data": {
      "text/plain": [
       "13204"
      ]
     },
     "execution_count": 69,
     "metadata": {},
     "output_type": "execute_result"
    }
   ],
   "source": [
    "len(test_true_edges)"
   ]
  },
  {
   "cell_type": "code",
   "execution_count": 60,
   "metadata": {},
   "outputs": [
    {
     "name": "stdout",
     "output_type": "stream",
     "text": [
      "There are 407 sig words\n"
     ]
    }
   ],
   "source": [
    "import json\n",
    " \n",
    "f = open('bill_challenge_datasets/Training/node_features_text.json')\n",
    "data = json.load(f)\n",
    "freq_words = defaultdict(int)\n",
    "for node, vector in data.items():\n",
    "    for word in vector:\n",
    "        freq_words[word] += 1\n",
    "\n",
    "significant_words = {x[0] for x in freq_words.items() if x[1] > 100 and x[1] < 2000}\n",
    "print(f\"There are {len(significant_words)} sig words\")\n",
    "old_to_new = {}\n",
    "idx = 0\n",
    "for word in significant_words:\n",
    "    old_to_new[word] = idx\n",
    "    idx += 1\n",
    "good_one_hot_vectors = {}\n",
    "regular_one_hot_vectors = {}\n",
    "for node, vector in data.items():\n",
    "    good_one_hot_vectors[node] = [0 for _ in range(len(significant_words))]\n",
    "    regular_one_hot_vectors[node] = [0 for _ in range(len(freq_words))]\n",
    "    for word in vector:\n",
    "        if word in significant_words:\n",
    "            good_one_hot_vectors[node][int(old_to_new[word])] = 1\n",
    "        regular_one_hot_vectors[node][word] = 1"
   ]
  },
  {
   "cell_type": "code",
   "execution_count": 23,
   "metadata": {},
   "outputs": [
    {
     "data": {
      "image/png": "[encoded data removed]",
      "text/plain": [
       "<Figure size 432x288 with 1 Axes>"
      ]
     },
     "metadata": {
      "needs_background": "light"
     },
     "output_type": "display_data"
    }
   ],
   "source": [
    "plt.scatter([x for x in range(len(freq_words.keys()))], [x for x in sorted(freq_words.values())])\n",
    "plt.title(\"True Frequencies\")\n",
    "plt.show()"
   ]
  },
  {
   "cell_type": "code",
   "execution_count": 24,
   "metadata": {},
   "outputs": [
    {
     "data": {
      "image/png": "[encoded data removed]",
      "text/plain": [
       "<Figure size 432x288 with 1 Axes>"
      ]
     },
     "metadata": {
      "needs_background": "light"
     },
     "output_type": "display_data"
    }
   ],
   "source": [
    "sig_freqs = [x[1] for x in freq_words.items() if x[1] > 100 and x[1] < 2000]\n",
    "plt.scatter([x for x in range(len(sig_freqs))], [x for x in sorted(sig_freqs)])\n",
    "plt.title(\"'Better' Frequencies\")\n",
    "plt.show()"
   ]
  },
  {
   "cell_type": "code",
   "execution_count": 16,
   "metadata": {},
   "outputs": [],
   "source": [
    "# get node classes\n",
    "file = open('bill_challenge_datasets/Training/node_classification.csv')\n",
    "csvreader = csv.reader(file)\n",
    "classes = {}\n",
    "for row in csvreader:\n",
    "    if row[0][0] != \"i\":\n",
    "        classes[row[0]] = row[1]"
   ]
  },
  {
   "cell_type": "code",
   "execution_count": 61,
   "metadata": {},
   "outputs": [
    {
     "name": "stdout",
     "output_type": "stream",
     "text": [
      "StellarGraph: Undirected multigraph\n",
      " Nodes: 20539, Edges: 118834\n",
      "\n",
      " Node types:\n",
      "  default: [20539]\n",
      "    Features: str672 vector, length 4716\n",
      "    Edge types: default-default->default\n",
      "\n",
      " Edge types:\n",
      "    default-default->default: [118834]\n",
      "        Weights: all 1 (default)\n",
      "        Features: none\n"
     ]
    },
    {
     "name": "stderr",
     "output_type": "stream",
     "text": [
      "Exception ignored in: <function WeakKeyDictionary.__init__.<locals>.remove at 0x7f3ec9cb65e0>\n",
      "Traceback (most recent call last):\n",
      "  File \"/home/det4/anaconda3/envs/tf/lib/python3.9/weakref.py\", line 370, in remove\n",
      "    def remove(k, selfref=ref(self)):\n",
      "KeyboardInterrupt: \n"
     ]
    }
   ],
   "source": [
    "# GCN link prediction\n",
    "from stellargraph import IndexedArray\n",
    "from stellargraph.data import EdgeSplitter\n",
    "from stellargraph.mapper import FullBatchLinkGenerator\n",
    "from stellargraph.layer import GCN, LinkEmbedding\n",
    "\n",
    "sorted_nodes = sorted(training_graph.keys())\n",
    "# good_one_hot_vectors[x] + [len(graph[x])]\n",
    "feature_array = np.array([[classes[x]] + [len(graph[x])] + regular_one_hot_vectors[x] for x in sorted_nodes])\n",
    "indexed_nodes = IndexedArray(feature_array, index=[x for x in sorted_nodes])\n",
    "gcn_sgraph = StellarGraph(nodes=indexed_nodes, edges=pdgraph)\n",
    "print(gcn_sgraph.info())\n",
    "edge_splitter_test = EdgeSplitter(gcn_sgraph)\n",
    "G_test, edge_ids_test, edge_labels_test = edge_splitter_test.train_test_split(\n",
    "    p=0.1, method=\"global\", keep_connected=True\n",
    ")\n",
    "edge_splitter_train = EdgeSplitter(G_test)\n",
    "G_train, edge_ids_train, edge_labels_train = edge_splitter_train.train_test_split(\n",
    "    p=0.1, method=\"global\", keep_connected=True\n",
    ")\n",
    "train_gen = FullBatchLinkGenerator(G_train, method=\"gcn\")\n",
    "train_flow = train_gen.flow(edge_ids_train, edge_labels_train)"
   ]
  },
  {
   "cell_type": "code",
   "execution_count": null,
   "metadata": {},
   "outputs": [
    {
     "name": "stdout",
     "output_type": "stream",
     "text": [
      "Using GCN (local pooling) filters...\n",
      "1/1 [==============================] - 0s 230ms/step - loss: 7.6246 - binary_accuracy: 0.5000\n",
      "1/1 [==============================] - 0s 75ms/step - loss: 7.6242 - binary_accuracy: 0.5000\n",
      "\n",
      "Train Set Metrics of the initial (untrained) model:\n",
      "\tloss: 7.6246\n",
      "\tbinary_accuracy: 0.5000\n",
      "\n",
      "Test Set Metrics of the initial (untrained) model:\n",
      "\tloss: 7.6242\n",
      "\tbinary_accuracy: 0.5000\n"
     ]
    }
   ],
   "source": [
    "from tensorflow import keras\n",
    "test_gen = FullBatchLinkGenerator(G_test, method=\"gcn\")\n",
    "test_flow = train_gen.flow(edge_ids_test, edge_labels_test)\n",
    "gcn = GCN(\n",
    "    layer_sizes=[50, 50], activations=[\"relu\", \"relu\"], generator=train_gen, dropout=0.3\n",
    ")\n",
    "x_inp, x_out = gcn.in_out_tensors()\n",
    "prediction = LinkEmbedding(activation=\"relu\", method=\"ip\")(x_out)\n",
    "prediction = keras.layers.Reshape((-1,))(prediction)\n",
    "model = keras.Model(inputs=x_inp, outputs=prediction)\n",
    "\n",
    "model.compile(\n",
    "    optimizer=keras.optimizers.Adam(lr=0.01),\n",
    "    loss=keras.losses.binary_crossentropy,\n",
    "    metrics=[\"binary_accuracy\"],\n",
    ")\n",
    "init_train_metrics = model.evaluate(train_flow)\n",
    "init_test_metrics = model.evaluate(test_flow)\n",
    "\n",
    "print(\"\\nTrain Set Metrics of the initial (untrained) model:\")\n",
    "for name, val in zip(model.metrics_names, init_train_metrics):\n",
    "    print(\"\\t{}: {:0.4f}\".format(name, val))\n",
    "\n",
    "print(\"\\nTest Set Metrics of the initial (untrained) model:\")\n",
    "for name, val in zip(model.metrics_names, init_test_metrics):\n",
    "    print(\"\\t{}: {:0.4f}\".format(name, val))"
   ]
  },
  {
   "cell_type": "code",
   "execution_count": null,
   "metadata": {},
   "outputs": [
    {
     "name": "stdout",
     "output_type": "stream",
     "text": [
      "Epoch 1/100\n",
      "1/1 - 1s - loss: 7.6067 - binary_accuracy: 0.5004 - val_loss: 7.5704 - val_binary_accuracy: 0.5003\n",
      "Epoch 2/100\n",
      "1/1 - 0s - loss: 7.4823 - binary_accuracy: 0.5026 - val_loss: 6.9402 - val_binary_accuracy: 0.5083\n",
      "Epoch 3/100\n",
      "1/1 - 0s - loss: 6.7732 - binary_accuracy: 0.5194 - val_loss: 4.8088 - val_binary_accuracy: 0.5845\n",
      "Epoch 4/100\n",
      "1/1 - 0s - loss: 5.0371 - binary_accuracy: 0.5834 - val_loss: 2.2087 - val_binary_accuracy: 0.7402\n",
      "Epoch 5/100\n",
      "1/1 - 0s - loss: 2.4263 - binary_accuracy: 0.7247 - val_loss: 0.7137 - val_binary_accuracy: 0.7167\n",
      "Epoch 6/100\n",
      "1/1 - 0s - loss: 1.6923 - binary_accuracy: 0.6727 - val_loss: 0.8518 - val_binary_accuracy: 0.6963\n",
      "Epoch 7/100\n",
      "1/1 - 0s - loss: 1.7872 - binary_accuracy: 0.6799 - val_loss: 1.1853 - val_binary_accuracy: 0.7995\n",
      "Epoch 8/100\n",
      "1/1 - 0s - loss: 1.5504 - binary_accuracy: 0.7684 - val_loss: 1.4213 - val_binary_accuracy: 0.7911\n",
      "Epoch 9/100\n",
      "1/1 - 0s - loss: 1.7164 - binary_accuracy: 0.7659 - val_loss: 1.0058 - val_binary_accuracy: 0.8064\n",
      "Epoch 10/100\n",
      "1/1 - 0s - loss: 1.4352 - binary_accuracy: 0.7740 - val_loss: 0.8120 - val_binary_accuracy: 0.8050\n",
      "Epoch 11/100\n",
      "1/1 - 0s - loss: 1.2736 - binary_accuracy: 0.7709 - val_loss: 0.7334 - val_binary_accuracy: 0.7966\n",
      "Epoch 12/100\n",
      "1/1 - 0s - loss: 1.3014 - binary_accuracy: 0.7572 - val_loss: 0.6939 - val_binary_accuracy: 0.7938\n",
      "Epoch 13/100\n",
      "1/1 - 0s - loss: 1.2380 - binary_accuracy: 0.7542 - val_loss: 1.1454 - val_binary_accuracy: 0.7999\n",
      "Epoch 14/100\n",
      "1/1 - 0s - loss: 1.4553 - binary_accuracy: 0.7733 - val_loss: 1.7495 - val_binary_accuracy: 0.7693\n",
      "Epoch 15/100\n",
      "1/1 - 0s - loss: 1.8793 - binary_accuracy: 0.7525 - val_loss: 2.1786 - val_binary_accuracy: 0.7428\n",
      "Epoch 16/100\n",
      "1/1 - 0s - loss: 2.3174 - binary_accuracy: 0.7315 - val_loss: 2.3980 - val_binary_accuracy: 0.7304\n",
      "Epoch 17/100\n",
      "1/1 - 0s - loss: 2.4194 - binary_accuracy: 0.7225 - val_loss: 2.4517 - val_binary_accuracy: 0.7286\n",
      "Epoch 18/100\n",
      "1/1 - 0s - loss: 2.5188 - binary_accuracy: 0.7234 - val_loss: 2.3634 - val_binary_accuracy: 0.7330\n",
      "Epoch 19/100\n",
      "1/1 - 0s - loss: 2.4127 - binary_accuracy: 0.7304 - val_loss: 2.1664 - val_binary_accuracy: 0.7461\n",
      "Epoch 20/100\n",
      "1/1 - 0s - loss: 2.3457 - binary_accuracy: 0.7347 - val_loss: 1.8707 - val_binary_accuracy: 0.7638\n",
      "Epoch 21/100\n",
      "1/1 - 0s - loss: 1.8746 - binary_accuracy: 0.7608 - val_loss: 1.4712 - val_binary_accuracy: 0.7857\n",
      "Epoch 22/100\n",
      "1/1 - 0s - loss: 1.6532 - binary_accuracy: 0.7710 - val_loss: 1.0657 - val_binary_accuracy: 0.8039\n",
      "Epoch 23/100\n",
      "1/1 - 0s - loss: 1.3764 - binary_accuracy: 0.7774 - val_loss: 0.7908 - val_binary_accuracy: 0.8050\n",
      "Epoch 24/100\n",
      "1/1 - 0s - loss: 1.2134 - binary_accuracy: 0.7795 - val_loss: 0.6805 - val_binary_accuracy: 0.7889\n",
      "Epoch 25/100\n",
      "1/1 - 0s - loss: 1.1333 - binary_accuracy: 0.7642 - val_loss: 0.6304 - val_binary_accuracy: 0.7618\n",
      "Epoch 26/100\n",
      "1/1 - 0s - loss: 1.0773 - binary_accuracy: 0.7393 - val_loss: 0.5509 - val_binary_accuracy: 0.7719\n",
      "Epoch 27/100\n",
      "1/1 - 0s - loss: 0.9023 - binary_accuracy: 0.7446 - val_loss: 1.2843 - val_binary_accuracy: 0.7263\n",
      "Epoch 28/100\n",
      "1/1 - 0s - loss: 1.8581 - binary_accuracy: 0.6942 - val_loss: 0.5155 - val_binary_accuracy: 0.7670\n",
      "Epoch 29/100\n",
      "1/1 - 0s - loss: 1.0984 - binary_accuracy: 0.7136 - val_loss: 0.6206 - val_binary_accuracy: 0.7031\n",
      "Epoch 30/100\n",
      "1/1 - 0s - loss: 1.0874 - binary_accuracy: 0.7003 - val_loss: 0.6085 - val_binary_accuracy: 0.7559\n",
      "Epoch 31/100\n",
      "1/1 - 0s - loss: 1.0372 - binary_accuracy: 0.7253 - val_loss: 0.6716 - val_binary_accuracy: 0.7896\n",
      "Epoch 32/100\n",
      "1/1 - 0s - loss: 1.0138 - binary_accuracy: 0.7708 - val_loss: 1.1176 - val_binary_accuracy: 0.8040\n",
      "Epoch 33/100\n",
      "1/1 - 0s - loss: 1.3619 - binary_accuracy: 0.7825 - val_loss: 1.6218 - val_binary_accuracy: 0.7840\n",
      "Epoch 34/100\n",
      "1/1 - 0s - loss: 1.7464 - binary_accuracy: 0.7683 - val_loss: 1.8214 - val_binary_accuracy: 0.7734\n",
      "Epoch 35/100\n",
      "1/1 - 0s - loss: 2.0119 - binary_accuracy: 0.7588 - val_loss: 1.6197 - val_binary_accuracy: 0.7824\n",
      "Epoch 36/100\n",
      "1/1 - 0s - loss: 1.7768 - binary_accuracy: 0.7699 - val_loss: 1.0460 - val_binary_accuracy: 0.8044\n",
      "Epoch 37/100\n",
      "1/1 - 0s - loss: 1.2081 - binary_accuracy: 0.7854 - val_loss: 0.6546 - val_binary_accuracy: 0.7860\n",
      "Epoch 38/100\n",
      "1/1 - 0s - loss: 0.9806 - binary_accuracy: 0.7618 - val_loss: 0.6799 - val_binary_accuracy: 0.7142\n",
      "Epoch 39/100\n",
      "1/1 - 0s - loss: 1.2422 - binary_accuracy: 0.7042 - val_loss: 0.6154 - val_binary_accuracy: 0.7466\n",
      "Epoch 40/100\n",
      "1/1 - 0s - loss: 1.1040 - binary_accuracy: 0.7220 - val_loss: 0.6182 - val_binary_accuracy: 0.7901\n",
      "Epoch 41/100\n",
      "1/1 - 0s - loss: 0.9894 - binary_accuracy: 0.7606 - val_loss: 0.7779 - val_binary_accuracy: 0.8072\n",
      "Epoch 42/100\n",
      "1/1 - 0s - loss: 1.0725 - binary_accuracy: 0.7824 - val_loss: 1.0076 - val_binary_accuracy: 0.8035\n",
      "Epoch 43/100\n",
      "1/1 - 0s - loss: 1.2310 - binary_accuracy: 0.7798 - val_loss: 1.1729 - val_binary_accuracy: 0.7975\n",
      "Epoch 44/100\n",
      "1/1 - 0s - loss: 1.3377 - binary_accuracy: 0.7757 - val_loss: 1.2508 - val_binary_accuracy: 0.7953\n",
      "Epoch 45/100\n",
      "1/1 - 0s - loss: 1.4133 - binary_accuracy: 0.7728 - val_loss: 1.2595 - val_binary_accuracy: 0.7958\n",
      "Epoch 46/100\n",
      "1/1 - 0s - loss: 1.4370 - binary_accuracy: 0.7716 - val_loss: 0.9032 - val_binary_accuracy: 0.8128\n",
      "Epoch 47/100\n",
      "1/1 - 0s - loss: 1.0822 - binary_accuracy: 0.7820 - val_loss: 0.6234 - val_binary_accuracy: 0.8091\n",
      "Epoch 48/100\n",
      "1/1 - 0s - loss: 0.8731 - binary_accuracy: 0.7712 - val_loss: 0.5317 - val_binary_accuracy: 0.7647\n",
      "Epoch 49/100\n",
      "1/1 - 0s - loss: 0.8597 - binary_accuracy: 0.7424 - val_loss: 0.5906 - val_binary_accuracy: 0.7029\n",
      "Epoch 50/100\n",
      "1/1 - 0s - loss: 0.9639 - binary_accuracy: 0.6944 - val_loss: 0.5842 - val_binary_accuracy: 0.7055\n",
      "Epoch 51/100\n",
      "1/1 - 0s - loss: 0.8730 - binary_accuracy: 0.7035 - val_loss: 0.5234 - val_binary_accuracy: 0.8091\n",
      "Epoch 52/100\n",
      "1/1 - 0s - loss: 0.8127 - binary_accuracy: 0.7454 - val_loss: 0.9424 - val_binary_accuracy: 0.7943\n",
      "Epoch 53/100\n",
      "1/1 - 0s - loss: 1.2742 - binary_accuracy: 0.7497 - val_loss: 1.0757 - val_binary_accuracy: 0.7913\n",
      "Epoch 54/100\n",
      "1/1 - 0s - loss: 1.4853 - binary_accuracy: 0.7460 - val_loss: 0.7749 - val_binary_accuracy: 0.8262\n",
      "Epoch 55/100\n",
      "1/1 - 0s - loss: 1.1167 - binary_accuracy: 0.7728 - val_loss: 0.5997 - val_binary_accuracy: 0.8141\n",
      "Epoch 56/100\n",
      "1/1 - 0s - loss: 0.8043 - binary_accuracy: 0.7863 - val_loss: 0.5836 - val_binary_accuracy: 0.7835\n",
      "Epoch 57/100\n",
      "1/1 - 0s - loss: 0.7938 - binary_accuracy: 0.7669 - val_loss: 0.6177 - val_binary_accuracy: 0.7567\n",
      "Epoch 58/100\n",
      "1/1 - 0s - loss: 0.8568 - binary_accuracy: 0.7447 - val_loss: 0.6342 - val_binary_accuracy: 0.7685\n",
      "Epoch 59/100\n",
      "1/1 - 0s - loss: 0.8723 - binary_accuracy: 0.7579 - val_loss: 0.6608 - val_binary_accuracy: 0.7920\n",
      "Epoch 60/100\n",
      "1/1 - 0s - loss: 0.8555 - binary_accuracy: 0.7706 - val_loss: 0.6675 - val_binary_accuracy: 0.7954\n",
      "Epoch 61/100\n",
      "1/1 - 0s - loss: 0.8646 - binary_accuracy: 0.7727 - val_loss: 0.6604 - val_binary_accuracy: 0.7951\n",
      "Epoch 62/100\n",
      "1/1 - 0s - loss: 0.8297 - binary_accuracy: 0.7759 - val_loss: 0.6535 - val_binary_accuracy: 0.7962\n",
      "Epoch 63/100\n",
      "1/1 - 0s - loss: 0.8909 - binary_accuracy: 0.7752 - val_loss: 0.6527 - val_binary_accuracy: 0.7981\n",
      "Epoch 64/100\n",
      "1/1 - 0s - loss: 0.8370 - binary_accuracy: 0.7789 - val_loss: 0.6454 - val_binary_accuracy: 0.7988\n",
      "Epoch 65/100\n",
      "1/1 - 0s - loss: 0.8289 - binary_accuracy: 0.7748 - val_loss: 0.6209 - val_binary_accuracy: 0.7958\n",
      "Epoch 66/100\n",
      "1/1 - 0s - loss: 0.8146 - binary_accuracy: 0.7741 - val_loss: 0.5768 - val_binary_accuracy: 0.7785\n",
      "Epoch 67/100\n",
      "1/1 - 0s - loss: 0.7797 - binary_accuracy: 0.7562 - val_loss: 0.5602 - val_binary_accuracy: 0.7675\n",
      "Epoch 68/100\n",
      "1/1 - 0s - loss: 0.7653 - binary_accuracy: 0.7536 - val_loss: 0.5570 - val_binary_accuracy: 0.7509\n",
      "Epoch 69/100\n",
      "1/1 - 0s - loss: 0.7836 - binary_accuracy: 0.7367 - val_loss: 0.5417 - val_binary_accuracy: 0.7748\n",
      "Epoch 70/100\n",
      "1/1 - 0s - loss: 0.7397 - binary_accuracy: 0.7495 - val_loss: 0.5884 - val_binary_accuracy: 0.8033\n",
      "Epoch 71/100\n",
      "1/1 - 0s - loss: 0.7406 - binary_accuracy: 0.7804 - val_loss: 0.6949 - val_binary_accuracy: 0.8108\n",
      "Epoch 72/100\n",
      "1/1 - 0s - loss: 0.8156 - binary_accuracy: 0.7888 - val_loss: 0.7523 - val_binary_accuracy: 0.8115\n",
      "Epoch 73/100\n",
      "1/1 - 0s - loss: 0.8824 - binary_accuracy: 0.7858 - val_loss: 0.6591 - val_binary_accuracy: 0.8113\n",
      "Epoch 74/100\n",
      "1/1 - 0s - loss: 0.7907 - binary_accuracy: 0.7838 - val_loss: 0.5528 - val_binary_accuracy: 0.8013\n",
      "Epoch 75/100\n",
      "1/1 - 0s - loss: 0.7109 - binary_accuracy: 0.7723 - val_loss: 0.5119 - val_binary_accuracy: 0.7739\n",
      "Epoch 76/100\n",
      "1/1 - 0s - loss: 0.6571 - binary_accuracy: 0.7501 - val_loss: 0.5088 - val_binary_accuracy: 0.7645\n",
      "Epoch 77/100\n",
      "1/1 - 0s - loss: 0.6718 - binary_accuracy: 0.7481 - val_loss: 0.5081 - val_binary_accuracy: 0.7766\n",
      "Epoch 78/100\n",
      "1/1 - 0s - loss: 0.6580 - binary_accuracy: 0.7645 - val_loss: 0.5294 - val_binary_accuracy: 0.7983\n",
      "Epoch 79/100\n",
      "1/1 - 0s - loss: 0.6665 - binary_accuracy: 0.7726 - val_loss: 0.6008 - val_binary_accuracy: 0.8105\n",
      "Epoch 80/100\n",
      "1/1 - 0s - loss: 0.7223 - binary_accuracy: 0.7865 - val_loss: 0.6292 - val_binary_accuracy: 0.8141\n",
      "Epoch 81/100\n",
      "1/1 - 0s - loss: 0.7430 - binary_accuracy: 0.7893 - val_loss: 0.5733 - val_binary_accuracy: 0.8108\n",
      "Epoch 82/100\n",
      "1/1 - 0s - loss: 0.6975 - binary_accuracy: 0.7825 - val_loss: 0.5207 - val_binary_accuracy: 0.7997\n",
      "Epoch 83/100\n",
      "1/1 - 0s - loss: 0.6463 - binary_accuracy: 0.7720 - val_loss: 0.5157 - val_binary_accuracy: 0.7988\n",
      "Epoch 84/100\n",
      "1/1 - 0s - loss: 0.6228 - binary_accuracy: 0.7729 - val_loss: 0.5134 - val_binary_accuracy: 0.7991\n",
      "Epoch 85/100\n",
      "1/1 - 0s - loss: 0.6311 - binary_accuracy: 0.7754 - val_loss: 0.5238 - val_binary_accuracy: 0.8041\n",
      "Epoch 86/100\n",
      "1/1 - 0s - loss: 0.6415 - binary_accuracy: 0.7820 - val_loss: 0.5445 - val_binary_accuracy: 0.8113\n",
      "Epoch 87/100\n",
      "1/1 - 0s - loss: 0.7143 - binary_accuracy: 0.7810 - val_loss: 0.5399 - val_binary_accuracy: 0.8110\n",
      "Epoch 88/100\n",
      "1/1 - 0s - loss: 0.6520 - binary_accuracy: 0.7826 - val_loss: 0.5154 - val_binary_accuracy: 0.7334\n",
      "Epoch 89/100\n",
      "1/1 - 0s - loss: 0.6337 - binary_accuracy: 0.7330 - val_loss: 0.6148 - val_binary_accuracy: 0.6651\n",
      "Epoch 90/100\n",
      "1/1 - 0s - loss: 0.8283 - binary_accuracy: 0.6608 - val_loss: 0.5042 - val_binary_accuracy: 0.7445\n",
      "Epoch 91/100\n",
      "1/1 - 0s - loss: 0.6303 - binary_accuracy: 0.7384 - val_loss: 0.5393 - val_binary_accuracy: 0.8148\n",
      "Epoch 92/100\n",
      "1/1 - 0s - loss: 0.6467 - binary_accuracy: 0.7814 - val_loss: 0.6956 - val_binary_accuracy: 0.8239\n",
      "Epoch 93/100\n",
      "1/1 - 0s - loss: 0.8087 - binary_accuracy: 0.7907 - val_loss: 0.6026 - val_binary_accuracy: 0.8224\n",
      "Epoch 94/100\n",
      "1/1 - 0s - loss: 0.6850 - binary_accuracy: 0.7928 - val_loss: 0.5167 - val_binary_accuracy: 0.8112\n",
      "Epoch 95/100\n",
      "1/1 - 0s - loss: 0.6159 - binary_accuracy: 0.7798 - val_loss: 0.5046 - val_binary_accuracy: 0.8024\n",
      "Epoch 96/100\n",
      "1/1 - 0s - loss: 0.6303 - binary_accuracy: 0.7690 - val_loss: 0.4985 - val_binary_accuracy: 0.7746\n",
      "Epoch 97/100\n",
      "1/1 - 0s - loss: 0.6266 - binary_accuracy: 0.7638 - val_loss: 0.5970 - val_binary_accuracy: 0.6848\n",
      "Epoch 98/100\n",
      "1/1 - 0s - loss: 0.8991 - binary_accuracy: 0.6764 - val_loss: 0.6163 - val_binary_accuracy: 0.6748\n",
      "Epoch 99/100\n",
      "1/1 - 0s - loss: 0.9045 - binary_accuracy: 0.6713 - val_loss: 0.5123 - val_binary_accuracy: 0.7672\n",
      "Epoch 100/100\n",
      "1/1 - 0s - loss: 0.6728 - binary_accuracy: 0.7426 - val_loss: 0.5930 - val_binary_accuracy: 0.8162\n"
     ]
    }
   ],
   "source": [
    "history = model.fit(\n",
    "    train_flow, epochs=100, validation_data=test_flow, verbose=2, shuffle=False\n",
    ")"
   ]
  },
  {
   "cell_type": "markdown",
   "metadata": {},
   "source": [
    "just the class of the nodes = 69% accuracy\n",
    "\n",
    "with num neighbors goes to 81% accuracy"
   ]
  },
  {
   "cell_type": "code",
   "execution_count": 57,
   "metadata": {},
   "outputs": [
    {
     "data": {
      "image/png": "[encoded data removed]",
      "text/plain": [
       "<Figure size 504x576 with 2 Axes>"
      ]
     },
     "metadata": {
      "needs_background": "light"
     },
     "output_type": "display_data"
    }
   ],
   "source": [
    "from stellargraph.utils import plot_history\n",
    "plot_history(history)"
   ]
  },
  {
   "cell_type": "code",
   "execution_count": 58,
   "metadata": {},
   "outputs": [
    {
     "name": "stdout",
     "output_type": "stream",
     "text": [
      "1/1 [==============================] - 0s 84ms/step - loss: 0.6114 - binary_accuracy: 0.8124\n",
      "1/1 [==============================] - 0s 83ms/step - loss: 0.5930 - binary_accuracy: 0.8162\n",
      "\n",
      "Train Set Metrics of the trained model:\n",
      "\tloss: 0.6114\n",
      "\tbinary_accuracy: 0.8124\n",
      "\n",
      "Test Set Metrics of the trained model:\n",
      "\tloss: 0.5930\n",
      "\tbinary_accuracy: 0.8162\n"
     ]
    }
   ],
   "source": [
    "train_metrics = model.evaluate(train_flow)\n",
    "test_metrics = model.evaluate(test_flow)\n",
    "\n",
    "print(\"\\nTrain Set Metrics of the trained model:\")\n",
    "for name, val in zip(model.metrics_names, train_metrics):\n",
    "    print(\"\\t{}: {:0.4f}\".format(name, val))\n",
    "\n",
    "print(\"\\nTest Set Metrics of the trained model:\")\n",
    "for name, val in zip(model.metrics_names, test_metrics):\n",
    "    print(\"\\t{}: {:0.4f}\".format(name, val))"
   ]
  },
  {
   "cell_type": "code",
   "execution_count": null,
   "metadata": {},
   "outputs": [],
   "source": []
  }
 ],
 "metadata": {
  "interpreter": {
   "hash": "f406cabcd9f3cf74697c745bb89fc5c5cd04ca6f3658b9dcb136695e2a135b1c"
  },
  "kernelspec": {
   "display_name": "Python 3.9.7 64-bit ('myenv': conda)",
   "language": "python",
   "name": "python3"
  },
  "language_info": {
   "codemirror_mode": {
    "name": "ipython",
    "version": 3
   },
   "file_extension": ".py",
   "mimetype": "text/x-python",
   "name": "python",
   "nbconvert_exporter": "python",
   "pygments_lexer": "ipython3",
   "version": "3.9.7"
  },
  "orig_nbformat": 4
 },
 "nbformat": 4,
 "nbformat_minor": 2
}
