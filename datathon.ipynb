{
 "cells": [
  {
   "cell_type": "markdown",
   "metadata": {},
   "source": [
    "# Ideas\n",
    "\n",
    "Can average the results from a DLRM and the node2vec-esque distance model\n",
    "\n",
    "take out some edges (label them as 1) and insert some edges (label them as 0)\n",
    "these are what we train on\n",
    "\n",
    "Node embedding - distance model\n",
    "1. randomly initialize embeddings for all nodes\n",
    "2. for each pair of nodes, if they are connected then push their embeddings closer by some amount, otherwise push them farther\n",
    "3. Do a PCA and visualize the embedding space? or just predict and see what our accuracy is\n"
   ]
  },
  {
   "cell_type": "code",
   "execution_count": 1,
   "metadata": {},
   "outputs": [
    {
     "name": "stderr",
     "output_type": "stream",
     "text": [
      "2022-01-29 09:32:16.279596: I tensorflow/stream_executor/platform/default/dso_loader.cc:49] Successfully opened dynamic library libcudart.so.10.1\n",
      "2022-01-29 09:32:17.279826: I tensorflow/compiler/jit/xla_cpu_device.cc:41] Not creating XLA devices, tf_xla_enable_xla_devices not set\n",
      "2022-01-29 09:32:17.280741: I tensorflow/stream_executor/platform/default/dso_loader.cc:49] Successfully opened dynamic library libcuda.so.1\n",
      "2022-01-29 09:32:17.365558: I tensorflow/core/common_runtime/gpu/gpu_device.cc:1720] Found device 0 with properties: \n",
      "pciBusID: 0000:1a:00.0 name: Tesla V100-SXM2-32GB computeCapability: 7.0\n",
      "coreClock: 1.53GHz coreCount: 80 deviceMemorySize: 31.75GiB deviceMemoryBandwidth: 836.37GiB/s\n",
      "2022-01-29 09:32:17.367174: I tensorflow/core/common_runtime/gpu/gpu_device.cc:1720] Found device 1 with properties: \n",
      "pciBusID: 0000:1b:00.0 name: Tesla V100-SXM2-32GB computeCapability: 7.0\n",
      "coreClock: 1.53GHz coreCount: 80 deviceMemorySize: 31.75GiB deviceMemoryBandwidth: 836.37GiB/s\n",
      "2022-01-29 09:32:17.368814: I tensorflow/core/common_runtime/gpu/gpu_device.cc:1720] Found device 2 with properties: \n",
      "pciBusID: 0000:3d:00.0 name: Tesla V100-SXM2-32GB computeCapability: 7.0\n",
      "coreClock: 1.53GHz coreCount: 80 deviceMemorySize: 31.75GiB deviceMemoryBandwidth: 836.37GiB/s\n",
      "2022-01-29 09:32:17.370450: I tensorflow/core/common_runtime/gpu/gpu_device.cc:1720] Found device 3 with properties: \n",
      "pciBusID: 0000:3e:00.0 name: Tesla V100-SXM2-32GB computeCapability: 7.0\n",
      "coreClock: 1.53GHz coreCount: 80 deviceMemorySize: 31.75GiB deviceMemoryBandwidth: 836.37GiB/s\n",
      "2022-01-29 09:32:17.372083: I tensorflow/core/common_runtime/gpu/gpu_device.cc:1720] Found device 4 with properties: \n",
      "pciBusID: 0000:88:00.0 name: Tesla V100-SXM2-32GB computeCapability: 7.0\n",
      "coreClock: 1.53GHz coreCount: 80 deviceMemorySize: 31.75GiB deviceMemoryBandwidth: 836.37GiB/s\n",
      "2022-01-29 09:32:17.373793: I tensorflow/core/common_runtime/gpu/gpu_device.cc:1720] Found device 5 with properties: \n",
      "pciBusID: 0000:89:00.0 name: Tesla V100-SXM2-32GB computeCapability: 7.0\n",
      "coreClock: 1.53GHz coreCount: 80 deviceMemorySize: 31.75GiB deviceMemoryBandwidth: 836.37GiB/s\n",
      "2022-01-29 09:32:17.375428: I tensorflow/core/common_runtime/gpu/gpu_device.cc:1720] Found device 6 with properties: \n",
      "pciBusID: 0000:b2:00.0 name: Tesla V100-SXM2-32GB computeCapability: 7.0\n",
      "coreClock: 1.53GHz coreCount: 80 deviceMemorySize: 31.75GiB deviceMemoryBandwidth: 836.37GiB/s\n",
      "2022-01-29 09:32:17.376994: I tensorflow/core/common_runtime/gpu/gpu_device.cc:1720] Found device 7 with properties: \n",
      "pciBusID: 0000:b3:00.0 name: Tesla V100-SXM2-32GB computeCapability: 7.0\n",
      "coreClock: 1.53GHz coreCount: 80 deviceMemorySize: 31.75GiB deviceMemoryBandwidth: 836.37GiB/s\n",
      "2022-01-29 09:32:17.377018: I tensorflow/stream_executor/platform/default/dso_loader.cc:49] Successfully opened dynamic library libcudart.so.10.1\n",
      "2022-01-29 09:32:17.378661: I tensorflow/stream_executor/platform/default/dso_loader.cc:49] Successfully opened dynamic library libcublas.so.10\n",
      "2022-01-29 09:32:17.378708: I tensorflow/stream_executor/platform/default/dso_loader.cc:49] Successfully opened dynamic library libcublasLt.so.10\n",
      "2022-01-29 09:32:17.380493: I tensorflow/stream_executor/platform/default/dso_loader.cc:49] Successfully opened dynamic library libcufft.so.10\n",
      "2022-01-29 09:32:17.380744: I tensorflow/stream_executor/platform/default/dso_loader.cc:49] Successfully opened dynamic library libcurand.so.10\n",
      "2022-01-29 09:32:17.382428: I tensorflow/stream_executor/platform/default/dso_loader.cc:49] Successfully opened dynamic library libcusolver.so.10\n",
      "2022-01-29 09:32:17.383327: I tensorflow/stream_executor/platform/default/dso_loader.cc:49] Successfully opened dynamic library libcusparse.so.10\n",
      "2022-01-29 09:32:17.386934: I tensorflow/stream_executor/platform/default/dso_loader.cc:49] Successfully opened dynamic library libcudnn.so.7\n",
      "2022-01-29 09:32:17.410700: I tensorflow/core/common_runtime/gpu/gpu_device.cc:1862] Adding visible gpu devices: 0, 1, 2, 3, 4, 5, 6, 7\n",
      "2022-01-29 09:32:17.411302: I tensorflow/core/platform/cpu_feature_guard.cc:142] This TensorFlow binary is optimized with oneAPI Deep Neural Network Library (oneDNN) to use the following CPU instructions in performance-critical operations:  SSE4.1 SSE4.2 AVX AVX2 AVX512F FMA\n",
      "To enable them in other operations, rebuild TensorFlow with the appropriate compiler flags.\n",
      "2022-01-29 09:32:18.854631: I tensorflow/core/common_runtime/gpu/gpu_device.cc:1720] Found device 0 with properties: \n",
      "pciBusID: 0000:1a:00.0 name: Tesla V100-SXM2-32GB computeCapability: 7.0\n",
      "coreClock: 1.53GHz coreCount: 80 deviceMemorySize: 31.75GiB deviceMemoryBandwidth: 836.37GiB/s\n",
      "2022-01-29 09:32:18.856308: I tensorflow/core/common_runtime/gpu/gpu_device.cc:1720] Found device 1 with properties: \n",
      "pciBusID: 0000:1b:00.0 name: Tesla V100-SXM2-32GB computeCapability: 7.0\n",
      "coreClock: 1.53GHz coreCount: 80 deviceMemorySize: 31.75GiB deviceMemoryBandwidth: 836.37GiB/s\n",
      "2022-01-29 09:32:18.857946: I tensorflow/core/common_runtime/gpu/gpu_device.cc:1720] Found device 2 with properties: \n",
      "pciBusID: 0000:3d:00.0 name: Tesla V100-SXM2-32GB computeCapability: 7.0\n",
      "coreClock: 1.53GHz coreCount: 80 deviceMemorySize: 31.75GiB deviceMemoryBandwidth: 836.37GiB/s\n",
      "2022-01-29 09:32:18.859575: I tensorflow/core/common_runtime/gpu/gpu_device.cc:1720] Found device 3 with properties: \n",
      "pciBusID: 0000:3e:00.0 name: Tesla V100-SXM2-32GB computeCapability: 7.0\n",
      "coreClock: 1.53GHz coreCount: 80 deviceMemorySize: 31.75GiB deviceMemoryBandwidth: 836.37GiB/s\n",
      "2022-01-29 09:32:18.861213: I tensorflow/core/common_runtime/gpu/gpu_device.cc:1720] Found device 4 with properties: \n",
      "pciBusID: 0000:88:00.0 name: Tesla V100-SXM2-32GB computeCapability: 7.0\n",
      "coreClock: 1.53GHz coreCount: 80 deviceMemorySize: 31.75GiB deviceMemoryBandwidth: 836.37GiB/s\n",
      "2022-01-29 09:32:18.862899: I tensorflow/core/common_runtime/gpu/gpu_device.cc:1720] Found device 5 with properties: \n",
      "pciBusID: 0000:89:00.0 name: Tesla V100-SXM2-32GB computeCapability: 7.0\n",
      "coreClock: 1.53GHz coreCount: 80 deviceMemorySize: 31.75GiB deviceMemoryBandwidth: 836.37GiB/s\n",
      "2022-01-29 09:32:18.864545: I tensorflow/core/common_runtime/gpu/gpu_device.cc:1720] Found device 6 with properties: \n",
      "pciBusID: 0000:b2:00.0 name: Tesla V100-SXM2-32GB computeCapability: 7.0\n",
      "coreClock: 1.53GHz coreCount: 80 deviceMemorySize: 31.75GiB deviceMemoryBandwidth: 836.37GiB/s\n",
      "2022-01-29 09:32:18.866088: I tensorflow/core/common_runtime/gpu/gpu_device.cc:1720] Found device 7 with properties: \n",
      "pciBusID: 0000:b3:00.0 name: Tesla V100-SXM2-32GB computeCapability: 7.0\n",
      "coreClock: 1.53GHz coreCount: 80 deviceMemorySize: 31.75GiB deviceMemoryBandwidth: 836.37GiB/s\n",
      "2022-01-29 09:32:18.866137: I tensorflow/stream_executor/platform/default/dso_loader.cc:49] Successfully opened dynamic library libcudart.so.10.1\n",
      "2022-01-29 09:32:18.866157: I tensorflow/stream_executor/platform/default/dso_loader.cc:49] Successfully opened dynamic library libcublas.so.10\n",
      "2022-01-29 09:32:18.866167: I tensorflow/stream_executor/platform/default/dso_loader.cc:49] Successfully opened dynamic library libcublasLt.so.10\n",
      "2022-01-29 09:32:18.866176: I tensorflow/stream_executor/platform/default/dso_loader.cc:49] Successfully opened dynamic library libcufft.so.10\n",
      "2022-01-29 09:32:18.866185: I tensorflow/stream_executor/platform/default/dso_loader.cc:49] Successfully opened dynamic library libcurand.so.10\n",
      "2022-01-29 09:32:18.866195: I tensorflow/stream_executor/platform/default/dso_loader.cc:49] Successfully opened dynamic library libcusolver.so.10\n",
      "2022-01-29 09:32:18.866204: I tensorflow/stream_executor/platform/default/dso_loader.cc:49] Successfully opened dynamic library libcusparse.so.10\n",
      "2022-01-29 09:32:18.866214: I tensorflow/stream_executor/platform/default/dso_loader.cc:49] Successfully opened dynamic library libcudnn.so.7\n",
      "2022-01-29 09:32:18.890113: I tensorflow/core/common_runtime/gpu/gpu_device.cc:1862] Adding visible gpu devices: 0, 1, 2, 3, 4, 5, 6, 7\n",
      "2022-01-29 09:32:18.890167: I tensorflow/stream_executor/platform/default/dso_loader.cc:49] Successfully opened dynamic library libcudart.so.10.1\n",
      "2022-01-29 09:32:25.245748: I tensorflow/core/common_runtime/gpu/gpu_device.cc:1261] Device interconnect StreamExecutor with strength 1 edge matrix:\n",
      "2022-01-29 09:32:25.245785: I tensorflow/core/common_runtime/gpu/gpu_device.cc:1267]      0 1 2 3 4 5 6 7 \n",
      "2022-01-29 09:32:25.245791: I tensorflow/core/common_runtime/gpu/gpu_device.cc:1280] 0:   N Y Y Y Y Y Y Y \n",
      "2022-01-29 09:32:25.245795: I tensorflow/core/common_runtime/gpu/gpu_device.cc:1280] 1:   Y N Y Y Y Y Y Y \n",
      "2022-01-29 09:32:25.245799: I tensorflow/core/common_runtime/gpu/gpu_device.cc:1280] 2:   Y Y N Y Y Y Y Y \n",
      "2022-01-29 09:32:25.245802: I tensorflow/core/common_runtime/gpu/gpu_device.cc:1280] 3:   Y Y Y N Y Y Y Y \n",
      "2022-01-29 09:32:25.245805: I tensorflow/core/common_runtime/gpu/gpu_device.cc:1280] 4:   Y Y Y Y N Y Y Y \n",
      "2022-01-29 09:32:25.245809: I tensorflow/core/common_runtime/gpu/gpu_device.cc:1280] 5:   Y Y Y Y Y N Y Y \n",
      "2022-01-29 09:32:25.245812: I tensorflow/core/common_runtime/gpu/gpu_device.cc:1280] 6:   Y Y Y Y Y Y N Y \n",
      "2022-01-29 09:32:25.245814: I tensorflow/core/common_runtime/gpu/gpu_device.cc:1280] 7:   Y Y Y Y Y Y Y N \n",
      "2022-01-29 09:32:25.260477: I tensorflow/core/common_runtime/gpu/gpu_device.cc:1406] Created TensorFlow device (/job:localhost/replica:0/task:0/device:GPU:0 with 290 MB memory) -> physical GPU (device: 0, name: Tesla V100-SXM2-32GB, pci bus id: 0000:1a:00.0, compute capability: 7.0)\n",
      "2022-01-29 09:32:25.265004: I tensorflow/core/common_runtime/gpu/gpu_device.cc:1406] Created TensorFlow device (/job:localhost/replica:0/task:0/device:GPU:1 with 25630 MB memory) -> physical GPU (device: 1, name: Tesla V100-SXM2-32GB, pci bus id: 0000:1b:00.0, compute capability: 7.0)\n",
      "2022-01-29 09:32:25.268823: I tensorflow/core/common_runtime/gpu/gpu_device.cc:1406] Created TensorFlow device (/job:localhost/replica:0/task:0/device:GPU:2 with 27451 MB memory) -> physical GPU (device: 2, name: Tesla V100-SXM2-32GB, pci bus id: 0000:3d:00.0, compute capability: 7.0)\n",
      "2022-01-29 09:32:25.272698: I tensorflow/core/common_runtime/gpu/gpu_device.cc:1406] Created TensorFlow device (/job:localhost/replica:0/task:0/device:GPU:3 with 27470 MB memory) -> physical GPU (device: 3, name: Tesla V100-SXM2-32GB, pci bus id: 0000:3e:00.0, compute capability: 7.0)\n",
      "2022-01-29 09:32:25.278521: I tensorflow/core/common_runtime/gpu/gpu_device.cc:1406] Created TensorFlow device (/job:localhost/replica:0/task:0/device:GPU:4 with 27470 MB memory) -> physical GPU (device: 4, name: Tesla V100-SXM2-32GB, pci bus id: 0000:88:00.0, compute capability: 7.0)\n",
      "2022-01-29 09:32:25.284498: I tensorflow/core/common_runtime/gpu/gpu_device.cc:1406] Created TensorFlow device (/job:localhost/replica:0/task:0/device:GPU:5 with 29494 MB memory) -> physical GPU (device: 5, name: Tesla V100-SXM2-32GB, pci bus id: 0000:89:00.0, compute capability: 7.0)\n",
      "2022-01-29 09:32:25.290199: I tensorflow/core/common_runtime/gpu/gpu_device.cc:1406] Created TensorFlow device (/job:localhost/replica:0/task:0/device:GPU:6 with 27432 MB memory) -> physical GPU (device: 6, name: Tesla V100-SXM2-32GB, pci bus id: 0000:b2:00.0, compute capability: 7.0)\n",
      "2022-01-29 09:32:25.295677: I tensorflow/core/common_runtime/gpu/gpu_device.cc:1406] Created TensorFlow device (/job:localhost/replica:0/task:0/device:GPU:7 with 25045 MB memory) -> physical GPU (device: 7, name: Tesla V100-SXM2-32GB, pci bus id: 0000:b3:00.0, compute capability: 7.0)\n",
      "2022-01-29 09:32:25.296444: I tensorflow/compiler/jit/xla_gpu_device.cc:99] Not creating XLA devices, tf_xla_enable_xla_devices not set\n"
     ]
    }
   ],
   "source": [
    "import csv\n",
    "import numpy as np\n",
    "import pandas as pd\n",
    "from collections import defaultdict\n",
    "from stellargraph.data import BiasedRandomWalk\n",
    "from stellargraph import StellarGraph\n",
    "from gensim.models import Word2Vec\n",
    "import multiprocessing\n",
    "import matplotlib.pyplot as plt\n"
   ]
  },
  {
   "cell_type": "code",
   "execution_count": 2,
   "metadata": {},
   "outputs": [],
   "source": [
    "file = open('bill_challenge_datasets/Training/training_graph.csv')\n",
    "csvreader = csv.reader(file)\n",
    "edges = []\n",
    "for row in csvreader:\n",
    "    if row[0][0] != \"n\":\n",
    "        edges.append(row)"
   ]
  },
  {
   "cell_type": "code",
   "execution_count": 3,
   "metadata": {},
   "outputs": [],
   "source": [
    "training_edges = []\n",
    "test_true_edges = []\n",
    "test_false_edges = []\n",
    "graph = defaultdict(set)\n",
    "training_graph = defaultdict(set)\n",
    "for i, row in enumerate(edges):\n",
    "    if i % 10 == 0:\n",
    "        test_true_edges.append(row)\n",
    "    else:\n",
    "        training_edges.append(row)\n",
    "        training_graph[row[0]].add(row[1])\n",
    "        training_graph[row[1]].add(row[0])\n",
    "    graph[row[0]].add(row[1])\n",
    "    graph[row[1]].add(row[0])\n",
    "\n",
    "for i in range(0, len(edges) - 65000, 2):\n",
    "    if i % 2 == 0:\n",
    "        if edges[i][0] not in edges[i + 1] and edges[i][0] not in graph[edges[i + 1][0]]:\n",
    "            test_false_edges.append([edges[i][0], edges[i+1][0]])\n"
   ]
  },
  {
   "cell_type": "code",
   "execution_count": null,
   "metadata": {},
   "outputs": [],
   "source": [
    "def jaccard(node1, node2):\n",
    "    inter = len(training_graph[node1].intersection(training_graph[node2]))\n",
    "    un = len(training_graph[node1].union(training_graph[node2]))\n",
    "    return inter / un\n",
    "\n",
    "for threshold_sim in [1, 1.25, 1.5, 1.75, 2, 2.25, 2.5, 2.75]:\n",
    "    amount_correct = 0\n",
    "    amount_incorrect = 0\n",
    "    for row in test_true_edges:\n",
    "        try:\n",
    "            # if distance less than threshold, we predict an edge\n",
    "            if np.linalg.norm(model.wv[row[0]] - model.wv[row[1]]) < threshold_sim:\n",
    "                amount_correct += 1\n",
    "            else:\n",
    "                amount_incorrect += 1\n",
    "        except:\n",
    "            continue\n",
    "        \n",
    "    for row in test_false_edges:\n",
    "        try:\n",
    "            # if distance less than threshold, we predict an edge\n",
    "            if np.linalg.norm(model.wv[row[0]] - model.wv[row[1]]) < threshold_sim:\n",
    "                amount_incorrect += 1\n",
    "            else:\n",
    "                amount_correct += 1\n",
    "        except:\n",
    "            continue"
   ]
  },
  {
   "cell_type": "code",
   "execution_count": 10,
   "metadata": {},
   "outputs": [],
   "source": [
    "# naive approach\n",
    "\n",
    "# embeddings = {}\n",
    "# for node in graph:\n",
    "#     embeddings[node] = np.random.rand(2) * 10\n",
    "# embeddings[node]\n",
    "# alpha = 1\n",
    "# for row in edges:\n",
    "#     mid = embeddings[row[0]] - embeddings[row[1]]\n",
    "#     embeddings[row[0]] -= alpha * mid\n",
    "#     embeddings[row[1]] += alpha * mid"
   ]
  },
  {
   "cell_type": "code",
   "execution_count": 20,
   "metadata": {},
   "outputs": [
    {
     "name": "stdout",
     "output_type": "stream",
     "text": [
      "StellarGraph: Undirected multigraph\n",
      " Nodes: 20539, Edges: 118834\n",
      "\n",
      " Node types:\n",
      "  default: [20539]\n",
      "    Features: none\n",
      "    Edge types: default-default->default\n",
      "\n",
      " Edge types:\n",
      "    default-default->default: [118834]\n",
      "        Weights: all 1 (default)\n",
      "        Features: none\n",
      "Number of random walks: 205390\n"
     ]
    }
   ],
   "source": [
    "# node2vec embedding approach\n",
    "\n",
    "pdgraph = pd.DataFrame(\n",
    "    {\"source\": [x[0] for x in training_edges], \"target\": [x[1] for x in training_edges]}\n",
    ")\n",
    "sgraph = StellarGraph(edges=pdgraph)\n",
    "print(sgraph.info())\n",
    "\n",
    "rw = BiasedRandomWalk(sgraph)\n",
    "\n",
    "walks = rw.run(\n",
    "    nodes=list(sgraph.nodes()),  # root nodes\n",
    "    length=100,  # maximum length of a random walk\n",
    "    n=10,  # number of random walks per root node\n",
    "    p=1.0,  # Defines (unormalised) probability, 1/p, of returning to source node\n",
    "    q=1.0,  # Defines (unormalised) probability, 1/q, for moving away from source node\n",
    ")\n",
    "print(\"Number of random walks: {}\".format(len(walks)))"
   ]
  },
  {
   "cell_type": "code",
   "execution_count": 69,
   "metadata": {},
   "outputs": [
    {
     "data": {
      "text/plain": [
       "(20,)"
      ]
     },
     "execution_count": 69,
     "metadata": {},
     "output_type": "execute_result"
    }
   ],
   "source": [
    "str_walks = [[str(n) for n in walk] for walk in walks]\n",
    "model = Word2Vec(str_walks, size=20, window=5, min_count=0, sg=1, workers=multiprocessing.cpu_count(), epochs=3)\n",
    "model.wv[\"14416\"].shape"
   ]
  },
  {
   "cell_type": "code",
   "execution_count": 67,
   "metadata": {},
   "outputs": [
    {
     "data": {
      "image/png": "[encoded data removed]",
      "text/plain": [
       "<Figure size 432x288 with 1 Axes>"
      ]
     },
     "metadata": {
      "needs_background": "light"
     },
     "output_type": "display_data"
    }
   ],
   "source": [
    "from sklearn.decomposition import PCA\n",
    "X = [model.wv[x] for x in training_graph.keys()]\n",
    "pca = PCA(n_components=2)\n",
    "pca.fit(X)\n",
    "newX = pca.transform(X)\n",
    "plt.scatter([x[0] for x in newX], [x[1] for x in newX])\n",
    "plt.title(\"True Clustering\")\n",
    "plt.show()"
   ]
  },
  {
   "cell_type": "code",
   "execution_count": 72,
   "metadata": {},
   "outputs": [
    {
     "name": "stdout",
     "output_type": "stream",
     "text": [
      "ThresholdDist: 1 Accuracy: 0.5230586249232658\n",
      "ThresholdDist: 1.25 Accuracy: 0.5466543891958257\n",
      "ThresholdDist: 1.5 Accuracy: 0.5713627992633518\n",
      "ThresholdDist: 1.75 Accuracy: 0.5926181706568447\n",
      "ThresholdDist: 2 Accuracy: 0.6064686924493554\n",
      "ThresholdDist: 2.25 Accuracy: 0.6108041743400859\n",
      "ThresholdDist: 2.5 Accuracy: 0.600560159607121\n",
      "ThresholdDist: 2.75 Accuracy: 0.5822206875383671\n"
     ]
    }
   ],
   "source": [
    "for threshold_dist in [1, 1.25, 1.5, 1.75, 2, 2.25, 2.5, 2.75]:\n",
    "    amount_correct = 0\n",
    "    amount_incorrect = 0\n",
    "    for row in test_true_edges:\n",
    "        try:\n",
    "            # if distance less than threshold, we predict an edge\n",
    "            if np.linalg.norm(model.wv[row[0]] - model.wv[row[1]]) < threshold_dist:\n",
    "                amount_correct += 1\n",
    "            else:\n",
    "                amount_incorrect += 1\n",
    "        except:\n",
    "            continue\n",
    "        \n",
    "    for row in test_false_edges:\n",
    "        try:\n",
    "            # if distance less than threshold, we predict an edge\n",
    "            if np.linalg.norm(model.wv[row[0]] - model.wv[row[1]]) < threshold_dist:\n",
    "                amount_incorrect += 1\n",
    "            else:\n",
    "                amount_correct += 1\n",
    "        except:\n",
    "            continue\n",
    "\n",
    "    print(f\"ThresholdDist: {threshold_dist} Accuracy: {amount_correct / (amount_correct + amount_incorrect)}\")"
   ]
  },
  {
   "cell_type": "code",
   "execution_count": 69,
   "metadata": {},
   "outputs": [
    {
     "data": {
      "text/plain": [
       "13204"
      ]
     },
     "execution_count": 69,
     "metadata": {},
     "output_type": "execute_result"
    }
   ],
   "source": [
    "len(test_true_edges)"
   ]
  },
  {
   "cell_type": "code",
   "execution_count": 22,
   "metadata": {},
   "outputs": [
    {
     "name": "stdout",
     "output_type": "stream",
     "text": [
      "There are 407 sig words\n"
     ]
    }
   ],
   "source": [
    "import json\n",
    " \n",
    "f = open('bill_challenge_datasets/Training/node_features_text.json')\n",
    "data = json.load(f)\n",
    "freq_words = defaultdict(int)\n",
    "for node, vector in data.items():\n",
    "    for word in vector:\n",
    "        freq_words[word] += 1\n",
    "\n",
    "significant_words = {x[0] for x in freq_words.items() if x[1] > 100 and x[1] < 2000}\n",
    "print(f\"There are {len(significant_words)} sig words\")\n",
    "old_to_new = {}\n",
    "idx = 0\n",
    "for word in significant_words:\n",
    "    old_to_new[word] = idx\n",
    "    idx += 1\n",
    "good_one_hot_vectors = {}\n",
    "for node, vector in data.items():\n",
    "    good_one_hot_vectors[node] = [0 for _ in range(len(significant_words))]\n",
    "    for word in vector:\n",
    "        if word in significant_words:\n",
    "            good_one_hot_vectors[node][int(old_to_new[word])] = 1"
   ]
  },
  {
   "cell_type": "code",
   "execution_count": 23,
   "metadata": {},
   "outputs": [
    {
     "data": {
      "image/png": "[encoded data removed]",
      "text/plain": [
       "<Figure size 432x288 with 1 Axes>"
      ]
     },
     "metadata": {
      "needs_background": "light"
     },
     "output_type": "display_data"
    }
   ],
   "source": [
    "plt.scatter([x for x in range(len(freq_words.keys()))], [x for x in sorted(freq_words.values())])\n",
    "plt.title(\"True Frequencies\")\n",
    "plt.show()"
   ]
  },
  {
   "cell_type": "code",
   "execution_count": 24,
   "metadata": {},
   "outputs": [
    {
     "data": {
      "image/png": "[encoded data removed]",
      "text/plain": [
       "<Figure size 432x288 with 1 Axes>"
      ]
     },
     "metadata": {
      "needs_background": "light"
     },
     "output_type": "display_data"
    }
   ],
   "source": [
    "sig_freqs = [x[1] for x in freq_words.items() if x[1] > 100 and x[1] < 2000]\n",
    "plt.scatter([x for x in range(len(sig_freqs))], [x for x in sorted(sig_freqs)])\n",
    "plt.title(\"'Better' Frequencies\")\n",
    "plt.show()"
   ]
  },
  {
   "cell_type": "code",
   "execution_count": null,
   "metadata": {},
   "outputs": [],
   "source": []
  }
 ],
 "metadata": {
  "interpreter": {
   "hash": "f406cabcd9f3cf74697c745bb89fc5c5cd04ca6f3658b9dcb136695e2a135b1c"
  },
  "kernelspec": {
   "display_name": "Python 3.9.7 64-bit ('myenv': conda)",
   "language": "python",
   "name": "python3"
  },
  "language_info": {
   "codemirror_mode": {
    "name": "ipython",
    "version": 3
   },
   "file_extension": ".py",
   "mimetype": "text/x-python",
   "name": "python",
   "nbconvert_exporter": "python",
   "pygments_lexer": "ipython3",
   "version": "3.9.7"
  },
  "orig_nbformat": 4
 },
 "nbformat": 4,
 "nbformat_minor": 2
}
